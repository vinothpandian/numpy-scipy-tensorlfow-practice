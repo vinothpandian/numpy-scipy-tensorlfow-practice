{
 "cells": [
  {
   "cell_type": "code",
   "execution_count": 1,
   "metadata": {},
   "outputs": [
    {
     "name": "stderr",
     "output_type": "stream",
     "text": [
      "/home/vinoth/Apps/anaconda3/envs/stanford20/lib/python3.6/importlib/_bootstrap.py:219: RuntimeWarning: compiletime version 3.5 of module 'tensorflow.python.framework.fast_tensor_util' does not match runtime version 3.6\n",
      "  return f(*args, **kwds)\n"
     ]
    }
   ],
   "source": [
    "import os\n",
    "os.environ['TF_CPP_MIN_LOG_LEVEL']='2'\n",
    "\n",
    "import tensorflow as tf"
   ]
  },
  {
   "cell_type": "code",
   "execution_count": 2,
   "metadata": {},
   "outputs": [],
   "source": [
    "sess = tf.InteractiveSession()"
   ]
  },
  {
   "cell_type": "code",
   "execution_count": 3,
   "metadata": {},
   "outputs": [
    {
     "name": "stdout",
     "output_type": "stream",
     "text": [
      "1.3453578\n"
     ]
    }
   ],
   "source": [
    "x = tf.random_uniform([])  # Empty array as shape creates a scalar.\n",
    "y = tf.random_uniform([])\n",
    "out = tf.cond(tf.greater(x, y), lambda: x + y, lambda: x - y)\n",
    "print(sess.run(out))"
   ]
  },
  {
   "cell_type": "code",
   "execution_count": 18,
   "metadata": {},
   "outputs": [
    {
     "name": "stdout",
     "output_type": "stream",
     "text": [
      "0.6141422\n"
     ]
    }
   ],
   "source": [
    "x = tf.random_uniform([], minval=-1, maxval=1)\n",
    "y = tf.random_uniform([], minval=-1, maxval=1)\n",
    "\n",
    "out = tf.case({ tf.greater(x, y): lambda: x + y, tf.less(x, y) : lambda: x- y },  default=lambda: tf.constant(0.), exclusive=True)\n",
    "\n",
    "print(sess.run(out))"
   ]
  },
  {
   "cell_type": "code",
   "execution_count": 21,
   "metadata": {},
   "outputs": [
    {
     "name": "stdout",
     "output_type": "stream",
     "text": [
      "[[ True False  True]\n",
      " [ True False False]]\n"
     ]
    }
   ],
   "source": [
    "x = tf.constant([[0, -2, 0], [0, 1, 2]])\n",
    "y = tf.zeros_like(x)\n",
    "\n",
    "out = tf.equal(x, y)\n",
    "\n",
    "print(sess.run(out))"
   ]
  },
  {
   "cell_type": "code",
   "execution_count": 24,
   "metadata": {},
   "outputs": [
    {
     "name": "stdout",
     "output_type": "stream",
     "text": [
      "[[ 2]\n",
      " [ 4]\n",
      " [ 6]\n",
      " [ 8]\n",
      " [ 9]\n",
      " [11]\n",
      " [14]\n",
      " [16]\n",
      " [18]]\n",
      "[[31.190735]\n",
      " [30.97266 ]\n",
      " [38.084503]\n",
      " [34.944454]\n",
      " [34.45999 ]\n",
      " [36.01657 ]\n",
      " [30.20379 ]\n",
      " [33.711494]\n",
      " [36.055565]]\n"
     ]
    }
   ],
   "source": [
    "x = tf.constant([29.05088806,  27.61298943,  31.19073486,  29.35532951,\n",
    " 30.97266006,  26.67541885,  38.08450317,  20.74983215,\n",
    " 34.94445419,  34.45999146,  29.06485367,  36.01657104,\n",
    " 27.88236427,  20.56035233,  30.20379066,  29.51215172,\n",
    " 33.71149445,  28.59134293,  36.05556488,  28.66994858])\n",
    "\n",
    "id_greater_than_30 = tf.where(tf.greater(x, 30))\n",
    "elem_greater_than_30 = tf.gather(x, id_greater_than_30)\n",
    "\n",
    "print(sess.run(id_greater_than_30))\n",
    "print(sess.run(elem_greater_than_30))"
   ]
  },
  {
   "cell_type": "code",
   "execution_count": 27,
   "metadata": {},
   "outputs": [
    {
     "name": "stdout",
     "output_type": "stream",
     "text": [
      "[1 2 3 4 5 6]\n",
      "[[1 0 0 0 0 0]\n",
      " [0 2 0 0 0 0]\n",
      " [0 0 3 0 0 0]\n",
      " [0 0 0 4 0 0]\n",
      " [0 0 0 0 5 0]\n",
      " [0 0 0 0 0 6]]\n"
     ]
    }
   ],
   "source": [
    "x = tf.range(1,7)\n",
    "\n",
    "diag = tf.diag(x)\n",
    "\n",
    "print(sess.run(x))\n",
    "print(sess.run(diag))"
   ]
  },
  {
   "cell_type": "code",
   "execution_count": 34,
   "metadata": {},
   "outputs": [
    {
     "name": "stdout",
     "output_type": "stream",
     "text": [
      "[[2. 0. 1. 2. 1. 1. 4. 3. 1. 7.]\n",
      " [0. 0. 1. 2. 3. 2. 2. 4. 4. 3.]\n",
      " [1. 3. 0. 2. 2. 2. 4. 1. 4. 2.]\n",
      " [2. 4. 1. 3. 4. 1. 2. 0. 1. 2.]\n",
      " [2. 2. 5. 0. 2. 4. 1. 1. 2. 2.]\n",
      " [1. 3. 1. 3. 2. 1. 3. 2. 4. 1.]\n",
      " [4. 1. 3. 0. 2. 4. 4. 0. 3. 3.]\n",
      " [0. 3. 3. 3. 2. 1. 3. 1. 0. 3.]\n",
      " [1. 3. 2. 0. 3. 2. 1. 0. 2. 2.]\n",
      " [5. 2. 2. 3. 1. 2. 2. 0. 4. 3.]]\n",
      "-23864.01\n"
     ]
    }
   ],
   "source": [
    "mat = tf.random_poisson(2., [10, 10])\n",
    "det = tf.matrix_determinant(mat)\n",
    "\n",
    "print(sess.run(mat))\n",
    "print(sess.run(det))"
   ]
  },
  {
   "cell_type": "code",
   "execution_count": 38,
   "metadata": {},
   "outputs": [
    {
     "name": "stdout",
     "output_type": "stream",
     "text": [
      "[ 5  2  3 10  6  4  1  0  9]\n"
     ]
    }
   ],
   "source": [
    "x = tf.constant([5, 2, 3, 5, 10, 6, 2, 3, 4, 2, 1, 1, 0, 9])\n",
    "y,idx = tf.unique(x)\n",
    "\n",
    "print(sess.run(y))"
   ]
  },
  {
   "cell_type": "code",
   "execution_count": null,
   "metadata": {},
   "outputs": [],
   "source": [
    "x = tf.random_uniform([300])\n",
    "y = tf.random_uniform([300])\n",
    "\n",
    "tf.cond(tf.less(tf.reduce_mean(tf.subtract(x, y)), 0), lambda: )"
   ]
  }
 ],
 "metadata": {
  "kernelspec": {
   "display_name": "Python 3",
   "language": "python",
   "name": "python3"
  },
  "language_info": {
   "codemirror_mode": {
    "name": "ipython",
    "version": 3
   },
   "file_extension": ".py",
   "mimetype": "text/x-python",
   "name": "python",
   "nbconvert_exporter": "python",
   "pygments_lexer": "ipython3",
   "version": "3.6.5"
  }
 },
 "nbformat": 4,
 "nbformat_minor": 2
}
